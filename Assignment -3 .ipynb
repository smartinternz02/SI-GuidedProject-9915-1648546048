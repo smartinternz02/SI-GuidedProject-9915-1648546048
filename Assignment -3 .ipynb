{
 "cells": [
  {
   "cell_type": "markdown",
   "metadata": {},
   "source": [
    "# Assignment -3 "
   ]
  },
  {
   "cell_type": "raw",
   "metadata": {},
   "source": [
    "Take Multiple-Class Classification Dataset From Kaggle.\n",
    "1-Data Preprocessing \n",
    "2-EDA\n",
    "3-Train,Test & Split\n",
    "4-Feature Scaling\n",
    "5-Model Building\n",
    "    1-Import Necessary libraries\n",
    "    2-Add input layer(inputs=no of inputs in dataset=n,weights=random,AF=relu)\n",
    "    3-Add hidden layer(no of hidden neuron=inputs=2n or n/2,weights=random,AF)\n",
    "    4-Add output layer(inputs,weights,AF\n",
    "                      Regression-1,random,relu\n",
    "                      Binary-1,random,sigmoid\n",
    "                      Categorical-no of classes,random,softmax)\n",
    "    5-Configure the learning processs\n",
    "        (loss function,accuracy,optimizer)\n",
    "      Regression- (MSE,Gradient/Stochastic/Mini Batch)\n",
    "      Binary-(binary cross entropy,accuracy,Gradient/Stochastic/Mini Batch)\n",
    "      Categorical-(categorical cross entropy,accuracy,Gradient/Stochastic/Mini Batch)\n",
    "    6-Fit the Model(x_train,y_train,batch_size,no of epochs)\n",
    "6-Test the model"
   ]
  }
 ],
 "metadata": {
  "kernelspec": {
   "display_name": "Python 3",
   "language": "python",
   "name": "python3"
  },
  "language_info": {
   "codemirror_mode": {
    "name": "ipython",
    "version": 3
   },
   "file_extension": ".py",
   "mimetype": "text/x-python",
   "name": "python",
   "nbconvert_exporter": "python",
   "pygments_lexer": "ipython3",
   "version": "3.8.5"
  }
 },
 "nbformat": 4,
 "nbformat_minor": 4
}
